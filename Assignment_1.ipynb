{
 "cells": [
  {
   "cell_type": "markdown",
   "metadata": {},
   "source": [
    "#### 1 Write a program which will find all such numbers which are divisible by 7 but are not a multiple of 5, between 2000 and 3200 (both included). The numbers obtained should be printed in a comma-separated sequence on a single line."
   ]
  },
  {
   "cell_type": "code",
   "execution_count": 3,
   "metadata": {},
   "outputs": [
    {
     "name": "stdout",
     "output_type": "stream",
     "text": [
      "2016,2051,2086,2121,2156,2191,2226,2261,2296,2331,2366,2401,2436,2471,2506,2541,2576,2611,2646,2681,2716,2751,2786,2821,2856,2891,2926,2961,2996,3031,3066,3101,3136,3171\n"
     ]
    }
   ],
   "source": [
    "number=[]\n",
    "\n",
    "for i in range(2000, 3201):\n",
    "    if (i%7==0) and (i%5==1):\n",
    "        number.append(str(i))\n",
    "print(\",\".join(number))\n",
    "        "
   ]
  },
  {
   "cell_type": "markdown",
   "metadata": {},
   "source": [
    "#### 2 Write a Python program to accept the user's first and last name and then getting them printed in the the reverse order with a space between first name and last name."
   ]
  },
  {
   "cell_type": "code",
   "execution_count": 10,
   "metadata": {},
   "outputs": [
    {
     "name": "stdout",
     "output_type": "stream",
     "text": [
      "Your First_name:anirudh\n",
      "Your Last_name: madhusudan\n",
      "Hi madhusudan anirudh\n"
     ]
    }
   ],
   "source": [
    "first_name= input(\"Your First_name:\")\n",
    "Last_name= input(\"Your Last_name: \")\n",
    "print(\"Hi\"+\" \" + Last_name+\" \"+ first_name)"
   ]
  },
  {
   "cell_type": "markdown",
   "metadata": {},
   "source": [
    "#### 3 Write a Python program to find the volume of a sphere with diameter 12 cm.\n"
   ]
  },
  {
   "cell_type": "code",
   "execution_count": 14,
   "metadata": {},
   "outputs": [
    {
     "name": "stdout",
     "output_type": "stream",
     "text": [
      "904.7786842338603\n"
     ]
    }
   ],
   "source": [
    "pi = 3.1415926535897931\n",
    "\n",
    "# converting diameter into radius\n",
    "radius= float(12/2)\n",
    "# final answer\n",
    "answer=(float( 4/3)* pi * radius **3)\n",
    "\n",
    "print(answer)"
   ]
  }
 ],
 "metadata": {
  "kernelspec": {
   "display_name": "Python 3",
   "language": "python",
   "name": "python3"
  },
  "language_info": {
   "codemirror_mode": {
    "name": "ipython",
    "version": 3
   },
   "file_extension": ".py",
   "mimetype": "text/x-python",
   "name": "python",
   "nbconvert_exporter": "python",
   "pygments_lexer": "ipython3",
   "version": "3.7.4"
  }
 },
 "nbformat": 4,
 "nbformat_minor": 2
}
